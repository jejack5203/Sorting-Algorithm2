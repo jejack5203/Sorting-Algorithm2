{
 "cells": [
  {
   "cell_type": "code",
   "execution_count": 1,
   "id": "1f0a76aa",
   "metadata": {},
   "outputs": [
    {
     "name": "stdout",
     "output_type": "stream",
     "text": [
      "Original array is:\n",
      "[300, -77, 29, 500, 5.5, 99, 8, 15]\n",
      "\n",
      "Sorted array is:\n",
      "[-77, 5.5, 8, 15, 29, 99, 300, 500]\n"
     ]
    }
   ],
   "source": [
    "# merge sort \n",
    "def mergesort(arr):\n",
    "    if len(arr) > 1:\n",
    "        mid = len(arr) // 2 \n",
    "        L = arr[:mid] # splits array into left half\n",
    "        R = arr[mid:] # splits array into right half\n",
    "        \n",
    "        mergesort(L) # uses recursion to call left and right halves\n",
    "        mergesort(R)\n",
    "        \n",
    "        i = j = k = 0\n",
    "        \n",
    "        while i < len(L) and j < len(R): \n",
    "            if L[i] <= R[j]: # if elements on left half is smaller merge into original array\n",
    "                arr[k] = L[i]\n",
    "                i += 1\n",
    "            else:\n",
    "                arr[k] = R[j] # if elements on right half is smaller merge into orginal array\n",
    "                j += 1\n",
    "            k += 1\n",
    "                    \n",
    "        while i < len(L): # checks if elements are remaining on right and left halves\n",
    "            arr[k] = L[i]\n",
    "            i += 1\n",
    "            k += 1\n",
    "            \n",
    "        while j < len(R):\n",
    "            arr[k] = R[j]\n",
    "            j += 1\n",
    "            k += 1\n",
    "\n",
    "arr = [300, -77, 29, 500, 5.5, 99, 8, 15]\n",
    "print(\"Original array is:\")\n",
    "print(arr)\n",
    "mergesort(arr)\n",
    "print()\n",
    "print(\"Sorted array is:\")\n",
    "print(arr)\n"
   ]
  },
  {
   "cell_type": "code",
   "execution_count": 12,
   "id": "8149034b",
   "metadata": {},
   "outputs": [
    {
     "name": "stdout",
     "output_type": "stream",
     "text": [
      "Original Array is:\n",
      "[300, -77, 29, 500, 5.5, 99, 8, 15]\n",
      "Sorted Array is:\n",
      "[-77, 5.5, 8, 15, 29, 99, 300, 500]\n"
     ]
    }
   ],
   "source": [
    "# quick sort\n",
    "def partition(array, low, high):\n",
    "    pivot = array[high] # set largest number as pivot\n",
    "    i = low - 1\n",
    "    for j in range(low, high):\n",
    "        if array[j] <= pivot:\n",
    "            i += 1\n",
    "            array[i], array[j] = array[j], array[i] # swap smaller num with num at smaller index\n",
    "    array[i + 1], array[high] = array[high], array[i + 1] # swap pivot\n",
    "    return i + 1\n",
    "\n",
    "def quicksort(array, low, high):\n",
    "    if low < high:\n",
    "        pi = partition(array, low, high) # partition array and get pivot index\n",
    "        quicksort(array, low, pi - 1) #recursively sort before and after pivot\n",
    "        quicksort(array, pi + 1, high)\n",
    "\n",
    "array = [300, -77, 29, 500, 5.5, 99, 8, 15]\n",
    "print(\"Original Array is:\")\n",
    "print(array)\n",
    "size = len(array)\n",
    "quicksort(array, 0, size - 1)\n",
    "print(\"Sorted Array is:\")\n",
    "print(array)\n"
   ]
  },
  {
   "cell_type": "code",
   "execution_count": 2,
   "id": "c6783161",
   "metadata": {},
   "outputs": [
    {
     "name": "stdout",
     "output_type": "stream",
     "text": [
      "Original Array is:\n",
      "[500, 2, 5, 5, 13, 8, 8, 1]\n",
      "countsort Array is: \n",
      "[1, 2, 5, 5, 8, 8, 13, 500]\n"
     ]
    }
   ],
   "source": [
    "# count sort\n",
    "def countsort():\n",
    "    size = len(array)\n",
    "    output = [0] * size\n",
    "\n",
    "    max_element = max(array)\n",
    "    count = [0] * (max_element + 1)\n",
    "    \n",
    "    for i in range(0, size):\n",
    "        count[array[i]] += 1\n",
    "\n",
    "    for i in range(1, max_element + 1):\n",
    "        count[i] += count[i - 1] # store the count\n",
    "   \n",
    "    i = size - 1\n",
    "    while i >= 0:\n",
    "        output[count[array[i]] - 1] = array[i] # Find the index of each element of the original array in count array\n",
    "                                               # place the elements in output array\n",
    "        count[array[i]] -= 1\n",
    "        i -= 1\n",
    "        \n",
    "    for i in range(0, size): \n",
    "        array[i] = output[i] # Copy the sorted elements into original array\n",
    "\n",
    "array = [500, 2, 5, 5, 13, 8, 8, 1]\n",
    "print(\"Original Array is:\")\n",
    "print(array)\n",
    "countsort()\n",
    "print(\"countsort Array is: \")\n",
    "print(array)"
   ]
  },
  {
   "cell_type": "code",
   "execution_count": null,
   "id": "da83a207",
   "metadata": {},
   "outputs": [],
   "source": []
  }
 ],
 "metadata": {
  "kernelspec": {
   "display_name": "Python 3 (ipykernel)",
   "language": "python",
   "name": "python3"
  },
  "language_info": {
   "codemirror_mode": {
    "name": "ipython",
    "version": 3
   },
   "file_extension": ".py",
   "mimetype": "text/x-python",
   "name": "python",
   "nbconvert_exporter": "python",
   "pygments_lexer": "ipython3",
   "version": "3.11.5"
  }
 },
 "nbformat": 4,
 "nbformat_minor": 5
}
